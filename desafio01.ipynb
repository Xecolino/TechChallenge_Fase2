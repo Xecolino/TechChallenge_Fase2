{
 "cells": [
  {
   "cell_type": "markdown",
   "id": "ccb8c8d7",
   "metadata": {},
   "source": [
    "📈 Previsão da Tendência do IBOVESPA: Um Modelo Preditivo em Python\n",
    "Este notebook apresenta o desenvolvimento de um modelo preditivo para classificar a tendência (alta ou baixa) do índice IBOVESPA no dia seguinte, com base em dados históricos. O objetivo é criar um insumo para dashboards internos de analistas quantitativos."
   ]
  },
  {
   "cell_type": "markdown",
   "id": "6b61732f",
   "metadata": {},
   "source": [
    "1. Configuração Inicial e Importação de Bibliotecas\n",
    "Primeiro, vamos importar todas as bibliotecas necessárias para a manipulação de dados, engenharia de atributos, modelagem e avaliação."
   ]
  },
  {
   "cell_type": "code",
   "execution_count": 67,
   "id": "50378e54",
   "metadata": {},
   "outputs": [],
   "source": [
    "import pandas as pd\n",
    "import numpy as np\n",
    "import matplotlib.pyplot as plt\n",
    "import seaborn as sns\n",
    "from datetime import datetime\n",
    "\n",
    "from sklearn.model_selection import train_test_split\n",
    "from sklearn.preprocessing import StandardScaler\n",
    "from sklearn.ensemble import RandomForestClassifier # Escolha inicial para bom balanço\n",
    "from sklearn.metrics import accuracy_score, classification_report, confusion_matrix, roc_auc_score, roc_curve\n",
    "\n",
    "# Configurações de visualização para gráficos\n",
    "sns.set_style(\"whitegrid\")\n",
    "plt.rcParams['figure.figsize'] = (12, 6)\n",
    "plt.rcParams['font.size'] = 12"
   ]
  },
  {
   "cell_type": "code",
   "execution_count": 68,
   "id": "7d23b25a",
   "metadata": {},
   "outputs": [],
   "source": [
    "df =pd.read_csv(\"Dados Históricos - Ibovespa.csv\")"
   ]
  },
  {
   "cell_type": "code",
   "execution_count": 69,
   "id": "8fcf5815",
   "metadata": {},
   "outputs": [
    {
     "name": "stdout",
     "output_type": "stream",
     "text": [
      "--- Primeiras 5 linhas do DataFrame ---\n"
     ]
    },
    {
     "data": {
      "application/vnd.microsoft.datawrangler.viewer.v0+json": {
       "columns": [
        {
         "name": "index",
         "rawType": "int64",
         "type": "integer"
        },
        {
         "name": "Data",
         "rawType": "object",
         "type": "string"
        },
        {
         "name": "Último",
         "rawType": "float64",
         "type": "float"
        },
        {
         "name": "Abertura",
         "rawType": "float64",
         "type": "float"
        },
        {
         "name": "Máxima",
         "rawType": "float64",
         "type": "float"
        },
        {
         "name": "Mínima",
         "rawType": "float64",
         "type": "float"
        },
        {
         "name": "Vol.",
         "rawType": "object",
         "type": "string"
        },
        {
         "name": "Var%",
         "rawType": "object",
         "type": "string"
        }
       ],
       "ref": "a59c4db1-094c-4a8c-bcaf-716dced6919a",
       "rows": [
        [
         "0",
         "25.06.2025",
         "135.803",
         "137.163",
         "137.163",
         "135.565",
         "6,53M",
         "-0,99%"
        ],
        [
         "1",
         "24.06.2025",
         "137.165",
         "136.552",
         "138.156",
         "136.254",
         "8,08B",
         "0,45%"
        ],
        [
         "2",
         "23.06.2025",
         "136.551",
         "137.116",
         "137.13",
         "135.835",
         "7,73B",
         "-0,41%"
        ],
        [
         "3",
         "20.06.2025",
         "137.116",
         "138.715",
         "138.719",
         "136.815",
         "11,29B",
         "-1,15%"
        ],
        [
         "4",
         "18.06.2025",
         "138.717",
         "138.844",
         "139.161",
         "138.443",
         "8,32B",
         "-0,09%"
        ]
       ],
       "shape": {
        "columns": 7,
        "rows": 5
       }
      },
      "text/html": [
       "<div>\n",
       "<style scoped>\n",
       "    .dataframe tbody tr th:only-of-type {\n",
       "        vertical-align: middle;\n",
       "    }\n",
       "\n",
       "    .dataframe tbody tr th {\n",
       "        vertical-align: top;\n",
       "    }\n",
       "\n",
       "    .dataframe thead th {\n",
       "        text-align: right;\n",
       "    }\n",
       "</style>\n",
       "<table border=\"1\" class=\"dataframe\">\n",
       "  <thead>\n",
       "    <tr style=\"text-align: right;\">\n",
       "      <th></th>\n",
       "      <th>Data</th>\n",
       "      <th>Último</th>\n",
       "      <th>Abertura</th>\n",
       "      <th>Máxima</th>\n",
       "      <th>Mínima</th>\n",
       "      <th>Vol.</th>\n",
       "      <th>Var%</th>\n",
       "    </tr>\n",
       "  </thead>\n",
       "  <tbody>\n",
       "    <tr>\n",
       "      <th>0</th>\n",
       "      <td>25.06.2025</td>\n",
       "      <td>135.803</td>\n",
       "      <td>137.163</td>\n",
       "      <td>137.163</td>\n",
       "      <td>135.565</td>\n",
       "      <td>6,53M</td>\n",
       "      <td>-0,99%</td>\n",
       "    </tr>\n",
       "    <tr>\n",
       "      <th>1</th>\n",
       "      <td>24.06.2025</td>\n",
       "      <td>137.165</td>\n",
       "      <td>136.552</td>\n",
       "      <td>138.156</td>\n",
       "      <td>136.254</td>\n",
       "      <td>8,08B</td>\n",
       "      <td>0,45%</td>\n",
       "    </tr>\n",
       "    <tr>\n",
       "      <th>2</th>\n",
       "      <td>23.06.2025</td>\n",
       "      <td>136.551</td>\n",
       "      <td>137.116</td>\n",
       "      <td>137.130</td>\n",
       "      <td>135.835</td>\n",
       "      <td>7,73B</td>\n",
       "      <td>-0,41%</td>\n",
       "    </tr>\n",
       "    <tr>\n",
       "      <th>3</th>\n",
       "      <td>20.06.2025</td>\n",
       "      <td>137.116</td>\n",
       "      <td>138.715</td>\n",
       "      <td>138.719</td>\n",
       "      <td>136.815</td>\n",
       "      <td>11,29B</td>\n",
       "      <td>-1,15%</td>\n",
       "    </tr>\n",
       "    <tr>\n",
       "      <th>4</th>\n",
       "      <td>18.06.2025</td>\n",
       "      <td>138.717</td>\n",
       "      <td>138.844</td>\n",
       "      <td>139.161</td>\n",
       "      <td>138.443</td>\n",
       "      <td>8,32B</td>\n",
       "      <td>-0,09%</td>\n",
       "    </tr>\n",
       "  </tbody>\n",
       "</table>\n",
       "</div>"
      ],
      "text/plain": [
       "         Data   Último  Abertura   Máxima   Mínima    Vol.    Var%\n",
       "0  25.06.2025  135.803   137.163  137.163  135.565   6,53M  -0,99%\n",
       "1  24.06.2025  137.165   136.552  138.156  136.254   8,08B   0,45%\n",
       "2  23.06.2025  136.551   137.116  137.130  135.835   7,73B  -0,41%\n",
       "3  20.06.2025  137.116   138.715  138.719  136.815  11,29B  -1,15%\n",
       "4  18.06.2025  138.717   138.844  139.161  138.443   8,32B  -0,09%"
      ]
     },
     "execution_count": 69,
     "metadata": {},
     "output_type": "execute_result"
    }
   ],
   "source": [
    "# Exibindo as 5 primeiras linhas e informações gerais\n",
    "print(\"--- Primeiras 5 linhas do DataFrame ---\")\n",
    "df.head(5)\n"
   ]
  },
  {
   "cell_type": "code",
   "execution_count": 70,
   "id": "9adb5427",
   "metadata": {},
   "outputs": [
    {
     "name": "stdout",
     "output_type": "stream",
     "text": [
      "\n",
      "--- Informações do DataFrame (tipos de dados, não-nulos) ---\n",
      "<class 'pandas.core.frame.DataFrame'>\n",
      "RangeIndex: 499 entries, 0 to 498\n",
      "Data columns (total 7 columns):\n",
      " #   Column    Non-Null Count  Dtype  \n",
      "---  ------    --------------  -----  \n",
      " 0   Data      499 non-null    object \n",
      " 1   Último    499 non-null    float64\n",
      " 2   Abertura  499 non-null    float64\n",
      " 3   Máxima    499 non-null    float64\n",
      " 4   Mínima    499 non-null    float64\n",
      " 5   Vol.      499 non-null    object \n",
      " 6   Var%      499 non-null    object \n",
      "dtypes: float64(4), object(3)\n",
      "memory usage: 27.4+ KB\n"
     ]
    }
   ],
   "source": [
    "print(\"\\n--- Informações do DataFrame (tipos de dados, não-nulos) ---\")\n",
    "df.info()"
   ]
  },
  {
   "cell_type": "markdown",
   "id": "cb24633a",
   "metadata": {},
   "source": [
    "============================================================================================\n",
    "-  Todos os dados estão como object (string), o que indica a necessidade de pré-processamento.\n",
    " "
   ]
  },
  {
   "cell_type": "markdown",
   "id": "8adf07e1",
   "metadata": {},
   "source": [
    "2.1 Limpeza e Pré-processamento dos Dados\n",
    "Precisamos converter as colunas para os tipos de dados corretos e lidar com as inconsistências (vírgulas, notação de volume, formatos de data)."
   ]
  },
  {
   "cell_type": "code",
   "execution_count": 71,
   "id": "dcd4b54e",
   "metadata": {},
   "outputs": [],
   "source": [
    "# Converter a coluna 'Data' para datetime64\n",
    "df['Data'] = pd.to_datetime(df['Data'], dayfirst=True, errors='coerce')"
   ]
  },
  {
   "cell_type": "code",
   "execution_count": 72,
   "id": "a00ef008",
   "metadata": {},
   "outputs": [],
   "source": [
    "# Converter a coluna 'Vol.' para float64\n",
    "# Substituir pontos por nada (milhar), e vírgulas por pontos (decimal)\n",
    "# Limpar e converter a coluna 'vol_'\n",
    "def convert_volume(vol_str):\n",
    "    vol_str = vol_str.replace(',', '.')\n",
    "    if 'B' in vol_str:\n",
    "        return float(vol_str.replace('B', '')) * 1_000_000_000\n",
    "    elif 'M' in vol_str:\n",
    "        return float(vol_str.replace('M', '')) * 1_000_000\n",
    "    return float(vol_str)\n",
    "\n",
    "df['Vol.'] = df['Vol.'].apply(convert_volume)"
   ]
  },
  {
   "cell_type": "code",
   "execution_count": 73,
   "id": "a6f2e045",
   "metadata": {},
   "outputs": [],
   "source": [
    "# Converter a coluna 'Var%' para float64\n",
    "# Remover o símbolo de porcentagem e converter\n",
    "df['Var%'] = df['Var%'].str.replace('%', '', regex=False).str.replace(',', '.', regex=False)\n",
    "df['Var%'] = pd.to_numeric(df['Var%'], errors='coerce')"
   ]
  },
  {
   "cell_type": "code",
   "execution_count": 74,
   "id": "fab76104",
   "metadata": {},
   "outputs": [],
   "source": [
    "# Ordenar os dados por data (muito importante para séries temporais)\n",
    "df.sort_values(by='Data', inplace=True)\n",
    "df.reset_index(drop=True, inplace=True)"
   ]
  },
  {
   "cell_type": "code",
   "execution_count": 75,
   "id": "50803fb3",
   "metadata": {},
   "outputs": [
    {
     "name": "stdout",
     "output_type": "stream",
     "text": [
      "--- DataFrame após limpeza e conversão de tipos ---\n",
      "        Data   Último  Abertura   Máxima   Mínima        Vol.  Var%\n",
      "0 2023-06-26  118.243   118.977  119.148  117.491  10460000.0 -0.62\n",
      "1 2023-06-27  117.523   118.246  119.212  116.561  13080000.0 -0.61\n",
      "2 2023-06-28  116.681   117.524  117.937  116.560  10650000.0 -0.72\n",
      "3 2023-06-29  118.383   116.683  118.623  116.683  11060000.0  1.46\n",
      "4 2023-06-30  118.087   118.388  119.447  118.087  13820000.0 -0.25\n",
      "\n",
      "--- Informações do DataFrame após limpeza ---\n",
      "<class 'pandas.core.frame.DataFrame'>\n",
      "RangeIndex: 499 entries, 0 to 498\n",
      "Data columns (total 7 columns):\n",
      " #   Column    Non-Null Count  Dtype         \n",
      "---  ------    --------------  -----         \n",
      " 0   Data      499 non-null    datetime64[ns]\n",
      " 1   Último    499 non-null    float64       \n",
      " 2   Abertura  499 non-null    float64       \n",
      " 3   Máxima    499 non-null    float64       \n",
      " 4   Mínima    499 non-null    float64       \n",
      " 5   Vol.      499 non-null    float64       \n",
      " 6   Var%      499 non-null    float64       \n",
      "dtypes: datetime64[ns](1), float64(6)\n",
      "memory usage: 27.4 KB\n",
      "None\n"
     ]
    }
   ],
   "source": [
    "print(\"--- DataFrame após limpeza e conversão de tipos ---\")\n",
    "print(df.head())\n",
    "print(\"\\n--- Informações do DataFrame após limpeza ---\")\n",
    "print(df.info())"
   ]
  },
  {
   "cell_type": "markdown",
   "id": "ff4e5988",
   "metadata": {},
   "source": [
    "2.2 Plot do preço de fechamento"
   ]
  },
  {
   "cell_type": "code",
   "execution_count": 76,
   "id": "530133d3",
   "metadata": {},
   "outputs": [
    {
     "data": {
      "image/png": "[encoded data removed]",
      "text/plain": [
       "<Figure size 1008x504 with 1 Axes>"
      ]
     },
     "metadata": {},
     "output_type": "display_data"
    }
   ],
   "source": [
    "# Plot do preço de fechamento\n",
    "plt.figure(figsize=(14, 7))\n",
    "plt.plot(df['Data'], df['Último'], label='IBOVESPA Fechamento')\n",
    "plt.title('Série Histórica do IBOVESPA - Preço de Fechamento')\n",
    "plt.xlabel('Data')\n",
    "plt.ylabel('Preço de Fechamento')\n",
    "plt.legend()\n",
    "plt.grid(True)\n",
    "plt.show()"
   ]
  },
  {
   "cell_type": "markdown",
   "id": "f928bfe8",
   "metadata": {},
   "source": [
    "3. Estratégia de Engenharia de Atributos. \n",
    "Aqui, vamos criar as features que o modelo usará para aprender os padrões. Incluiremos a variável alvo, valores defasados, médias móveis e outras métricas."
   ]
  },
  {
   "cell_type": "code",
   "execution_count": null,
   "id": "593c2634",
   "metadata": {},
   "outputs": [],
   "source": []
  }
 ],
 "metadata": {
  "kernelspec": {
   "display_name": "Python 3",
   "language": "python",
   "name": "python3"
  },
  "language_info": {
   "codemirror_mode": {
    "name": "ipython",
    "version": 3
   },
   "file_extension": ".py",
   "mimetype": "text/x-python",
   "name": "python",
   "nbconvert_exporter": "python",
   "pygments_lexer": "ipython3",
   "version": "3.10.11"
  }
 },
 "nbformat": 4,
 "nbformat_minor": 5
}
